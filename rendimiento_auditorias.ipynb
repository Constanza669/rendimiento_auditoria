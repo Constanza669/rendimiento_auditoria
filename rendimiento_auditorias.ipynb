{
 "cells": [
  {
   "cell_type": "markdown",
   "metadata": {},
   "source": [
    "##  Análisis del rendimiento de auditorias internas\n",
    "\n",
    "**Por Constanza Espinoza**\n",
    "\n",
    " Dataset analiza rendimiento de auditorias internas realizadas a los distintos contratos durante el actual año\n",
    "\n",
    "## Objetivo \n",
    "El objetivo de este análisis es responder a una serie de preguntas a través del estudio de la base de datos. Las preguntas son las siguientes:\n",
    " - ¿Existe alguna tendencia de resultados entre los distintos contratos frente a las distintas auditorias?\n",
    " - ¿Hubo un aumento significativo en el cumplimiento frente al plazo entregado?\n",
    " - ¿Cúal o cuales fueron los contratos que mejor resultado tuvieron?, ¿Y los peores?\n",
    " - ¿Cúal auditoria tuvo mejores resultados?, ¿y la peor?\n",
    " \n",
    " ## Tabla de contenido\n",
    "  1. Carga de datos\n",
    "  2. Exploración de datos\n",
    "  3. Limpieza de datos\n",
    "  4. Presentación de datos\n",
    "  5. Conclusiones\n",
    "  6. Referencias\n",
    "  \n",
    "## 1. Carga de datos\n",
    "Se cargarán los datos extraidos de organización Somacor"
   ]
  },
  {
   "cell_type": "code",
   "execution_count": 1,
   "metadata": {},
   "outputs": [],
   "source": [
    "#Importar librerias a utilizar\n",
    "import pandas as pd\n",
    "import numpy as np\n",
    "import matplotlib.pyplot as plt\n",
    "import seaborn as sns\n",
    "\n",
    "%matplotlib inline"
   ]
  },
  {
   "cell_type": "code",
   "execution_count": 3,
   "metadata": {},
   "outputs": [],
   "source": [
    "#Importar los datos a utilizar\n",
    "df = pd.read_csv('datos/rendimiento_auditorias.csv')"
   ]
  },
  {
   "cell_type": "markdown",
   "metadata": {},
   "source": [
    "## 2. Exploración de datos\n",
    "Se revisaron los datos cargados para determinar que se debe realizar en el siguiente paso"
   ]
  },
  {
   "cell_type": "code",
   "execution_count": 4,
   "metadata": {},
   "outputs": [
    {
     "data": {
      "text/html": [
       "<div>\n",
       "<style scoped>\n",
       "    .dataframe tbody tr th:only-of-type {\n",
       "        vertical-align: middle;\n",
       "    }\n",
       "\n",
       "    .dataframe tbody tr th {\n",
       "        vertical-align: top;\n",
       "    }\n",
       "\n",
       "    .dataframe thead th {\n",
       "        text-align: right;\n",
       "    }\n",
       "</style>\n",
       "<table border=\"1\" class=\"dataframe\">\n",
       "  <thead>\n",
       "    <tr style=\"text-align: right;\">\n",
       "      <th></th>\n",
       "      <th>Servicio</th>\n",
       "      <th>Region</th>\n",
       "      <th>Auditoria</th>\n",
       "      <th>Categoria</th>\n",
       "      <th>Subgerencia</th>\n",
       "      <th>Cumplimiento parcial</th>\n",
       "      <th>Cumplimiento final</th>\n",
       "      <th>Nc preliminar</th>\n",
       "      <th>NC definitivas</th>\n",
       "      <th>NC tratadas</th>\n",
       "    </tr>\n",
       "  </thead>\n",
       "  <tbody>\n",
       "    <tr>\n",
       "      <th>39</th>\n",
       "      <td>Anglo American</td>\n",
       "      <td>Metropolitana</td>\n",
       "      <td>Medio Ambiente</td>\n",
       "      <td>A</td>\n",
       "      <td>Elias Matamoros</td>\n",
       "      <td>97%</td>\n",
       "      <td>100%</td>\n",
       "      <td>1</td>\n",
       "      <td>0</td>\n",
       "      <td>1</td>\n",
       "    </tr>\n",
       "    <tr>\n",
       "      <th>35</th>\n",
       "      <td>El Peñon</td>\n",
       "      <td>Antofagasta</td>\n",
       "      <td>Medio Ambiente</td>\n",
       "      <td>B</td>\n",
       "      <td>Mauricio Aguilera</td>\n",
       "      <td>100%</td>\n",
       "      <td>100%</td>\n",
       "      <td>0</td>\n",
       "      <td>0</td>\n",
       "      <td>0</td>\n",
       "    </tr>\n",
       "    <tr>\n",
       "      <th>9</th>\n",
       "      <td>Anglo American</td>\n",
       "      <td>Metropolitana</td>\n",
       "      <td>Higiene y Salud Ocupacional</td>\n",
       "      <td>A</td>\n",
       "      <td>Elias Matamoros</td>\n",
       "      <td>92%</td>\n",
       "      <td>100%</td>\n",
       "      <td>7</td>\n",
       "      <td>0</td>\n",
       "      <td>7</td>\n",
       "    </tr>\n",
       "    <tr>\n",
       "      <th>32</th>\n",
       "      <td>INCO</td>\n",
       "      <td>Atacama y Coquimbo</td>\n",
       "      <td>Calidad</td>\n",
       "      <td>B</td>\n",
       "      <td>Elias Matamoros</td>\n",
       "      <td>75%</td>\n",
       "      <td>80%</td>\n",
       "      <td>13</td>\n",
       "      <td>10</td>\n",
       "      <td>3</td>\n",
       "    </tr>\n",
       "    <tr>\n",
       "      <th>14</th>\n",
       "      <td>SGO</td>\n",
       "      <td>Antofagasta</td>\n",
       "      <td>Seguridad</td>\n",
       "      <td>A</td>\n",
       "      <td>Mauricio Aguilera</td>\n",
       "      <td>90%</td>\n",
       "      <td>100%</td>\n",
       "      <td>11</td>\n",
       "      <td>0</td>\n",
       "      <td>11</td>\n",
       "    </tr>\n",
       "    <tr>\n",
       "      <th>12</th>\n",
       "      <td>Quebrada Blanca</td>\n",
       "      <td>Tarapaca</td>\n",
       "      <td>Higiene y Salud Ocupacional</td>\n",
       "      <td>A</td>\n",
       "      <td>Mauricio Aguilera</td>\n",
       "      <td>55%</td>\n",
       "      <td>75%</td>\n",
       "      <td>48</td>\n",
       "      <td>21</td>\n",
       "      <td>27</td>\n",
       "    </tr>\n",
       "    <tr>\n",
       "      <th>33</th>\n",
       "      <td>Quebrada Blanca</td>\n",
       "      <td>Tarapaca</td>\n",
       "      <td>Calidad</td>\n",
       "      <td>A</td>\n",
       "      <td>Mauricio Aguilera</td>\n",
       "      <td>83%</td>\n",
       "      <td>95%</td>\n",
       "      <td>6</td>\n",
       "      <td>3</td>\n",
       "      <td>3</td>\n",
       "    </tr>\n",
       "    <tr>\n",
       "      <th>40</th>\n",
       "      <td>CMPC</td>\n",
       "      <td>Bio Bio</td>\n",
       "      <td>Medio Ambiente</td>\n",
       "      <td>A</td>\n",
       "      <td>Elias Matamoros</td>\n",
       "      <td>90%</td>\n",
       "      <td>100%</td>\n",
       "      <td>2</td>\n",
       "      <td>0</td>\n",
       "      <td>2</td>\n",
       "    </tr>\n",
       "    <tr>\n",
       "      <th>22</th>\n",
       "      <td>CMPC</td>\n",
       "      <td>Bio Bio</td>\n",
       "      <td>Seguridad</td>\n",
       "      <td>A</td>\n",
       "      <td>Elias Matamoros</td>\n",
       "      <td>99%</td>\n",
       "      <td>100%</td>\n",
       "      <td>1</td>\n",
       "      <td>0</td>\n",
       "      <td>1</td>\n",
       "    </tr>\n",
       "    <tr>\n",
       "      <th>18</th>\n",
       "      <td>Cerro Negro</td>\n",
       "      <td>Atacama y Coquimbo</td>\n",
       "      <td>Seguridad</td>\n",
       "      <td>B</td>\n",
       "      <td>Elias Matamoros</td>\n",
       "      <td>78%</td>\n",
       "      <td>100%</td>\n",
       "      <td>20</td>\n",
       "      <td>0</td>\n",
       "      <td>20</td>\n",
       "    </tr>\n",
       "  </tbody>\n",
       "</table>\n",
       "</div>"
      ],
      "text/plain": [
       "           Servicio              Region                    Auditoria  \\\n",
       "39   Anglo American       Metropolitana               Medio Ambiente   \n",
       "35         El Peñon         Antofagasta               Medio Ambiente   \n",
       "9    Anglo American       Metropolitana  Higiene y Salud Ocupacional   \n",
       "32             INCO  Atacama y Coquimbo                      Calidad   \n",
       "14              SGO         Antofagasta                    Seguridad   \n",
       "12  Quebrada Blanca            Tarapaca  Higiene y Salud Ocupacional   \n",
       "33  Quebrada Blanca            Tarapaca                      Calidad   \n",
       "40             CMPC            Bio Bio                Medio Ambiente   \n",
       "22             CMPC            Bio Bio                     Seguridad   \n",
       "18      Cerro Negro  Atacama y Coquimbo                    Seguridad   \n",
       "\n",
       "   Categoria         Subgerencia Cumplimiento parcial Cumplimiento final  \\\n",
       "39         A     Elias Matamoros                  97%               100%   \n",
       "35         B  Mauricio Aguilera                  100%               100%   \n",
       "9          A     Elias Matamoros                  92%               100%   \n",
       "32         B     Elias Matamoros                  75%                80%   \n",
       "14         A  Mauricio Aguilera                   90%               100%   \n",
       "12         A  Mauricio Aguilera                   55%                75%   \n",
       "33         A  Mauricio Aguilera                   83%                95%   \n",
       "40         A     Elias Matamoros                  90%               100%   \n",
       "22         A     Elias Matamoros                  99%               100%   \n",
       "18         B     Elias Matamoros                  78%               100%   \n",
       "\n",
       "    Nc preliminar  NC definitivas  NC tratadas  \n",
       "39              1               0            1  \n",
       "35              0               0            0  \n",
       "9               7               0            7  \n",
       "32             13              10            3  \n",
       "14             11               0           11  \n",
       "12             48              21           27  \n",
       "33              6               3            3  \n",
       "40              2               0            2  \n",
       "22              1               0            1  \n",
       "18             20               0           20  "
      ]
     },
     "execution_count": 4,
     "metadata": {},
     "output_type": "execute_result"
    }
   ],
   "source": [
    "#Revisar comportamiento de columnas\n",
    "df.sample(10)"
   ]
  },
  {
   "cell_type": "code",
   "execution_count": 6,
   "metadata": {},
   "outputs": [
    {
     "name": "stdout",
     "output_type": "stream",
     "text": [
      "<class 'pandas.core.frame.DataFrame'>\n",
      "RangeIndex: 43 entries, 0 to 42\n",
      "Data columns (total 10 columns):\n",
      " #   Column                Non-Null Count  Dtype \n",
      "---  ------                --------------  ----- \n",
      " 0   Servicio              43 non-null     object\n",
      " 1   Region                43 non-null     object\n",
      " 2   Auditoria             43 non-null     object\n",
      " 3   Categoria             43 non-null     object\n",
      " 4   Subgerencia           43 non-null     object\n",
      " 5   Cumplimiento parcial  43 non-null     object\n",
      " 6   Cumplimiento final    43 non-null     object\n",
      " 7   Nc preliminar         43 non-null     int64 \n",
      " 8   NC definitivas        43 non-null     int64 \n",
      " 9   NC tratadas           43 non-null     int64 \n",
      "dtypes: int64(3), object(7)\n",
      "memory usage: 3.5+ KB\n"
     ]
    }
   ],
   "source": [
    "#Se revisó información relevante de cada columa\n",
    "df.info()\n",
    "#no hay valores nulos"
   ]
  },
  {
   "cell_type": "code",
   "execution_count": 7,
   "metadata": {},
   "outputs": [
    {
     "data": {
      "text/plain": [
       "(43, 10)"
      ]
     },
     "execution_count": 7,
     "metadata": {},
     "output_type": "execute_result"
    }
   ],
   "source": [
    "df.shape\n",
    "#43 filas y 10 columnas"
   ]
  },
  {
   "cell_type": "code",
   "execution_count": 8,
   "metadata": {},
   "outputs": [
    {
     "data": {
      "text/plain": [
       "Servicio                13\n",
       "Region                   5\n",
       "Auditoria                4\n",
       "Categoria                2\n",
       "Subgerencia              4\n",
       "Cumplimiento parcial    25\n",
       "Cumplimiento final      14\n",
       "Nc preliminar           24\n",
       "NC definitivas          14\n",
       "NC tratadas             18\n",
       "dtype: int64"
      ]
     },
     "execution_count": 8,
     "metadata": {},
     "output_type": "execute_result"
    }
   ],
   "source": [
    "#revisar valores unicos\n",
    "df.nunique()\n",
    "#De acuerdo a revisión, se realizaron 4 auditoria a 13 contratos, distribuidos entre 5 regiones del país de Chile."
   ]
  },
  {
   "cell_type": "code",
   "execution_count": null,
   "metadata": {},
   "outputs": [],
   "source": [
    "#ver las variables definidas\n",
    "#%whos\n",
    "\n",
    "#import math para importar operaciones matematicas\n"
   ]
  },
  {
   "cell_type": "markdown",
   "metadata": {},
   "source": [
    "## 3. Limpieza de los datos\n",
    "En base a la exploración de los datos, se decide realizar una limpieza con el fin de realizar un análisis eficaz"
   ]
  },
  {
   "cell_type": "code",
   "execution_count": null,
   "metadata": {},
   "outputs": [],
   "source": [
    "#guardar dataframe limpio pd.to_csv('datos/covid_impact_on_airport_traffic.csv')"
   ]
  },
  {
   "cell_type": "code",
   "execution_count": null,
   "metadata": {},
   "outputs": [],
   "source": []
  },
  {
   "cell_type": "markdown",
   "metadata": {},
   "source": [
    "## 4. Presentación de datos\n",
    "De acuerdo al análisis y limpieza de los datos, se realiza lo siguiente:\n",
    "\n",
    "4.1 ¿Existe alguna tendencia de resultados entre los distintos contratos frente a las distintas auditorias?\n"
   ]
  },
  {
   "cell_type": "code",
   "execution_count": null,
   "metadata": {},
   "outputs": [],
   "source": []
  },
  {
   "cell_type": "markdown",
   "metadata": {},
   "source": [
    "4.2 ¿Hubo un aumento significativo en el cumplimiento frente al plazo entregado?\n"
   ]
  },
  {
   "cell_type": "code",
   "execution_count": null,
   "metadata": {},
   "outputs": [],
   "source": []
  },
  {
   "cell_type": "markdown",
   "metadata": {},
   "source": [
    "4.3 ¿Cúal o cuales fueron los contratos que mejor resultado tuvieron?, ¿Y los peores?\n"
   ]
  },
  {
   "cell_type": "code",
   "execution_count": null,
   "metadata": {},
   "outputs": [],
   "source": []
  },
  {
   "cell_type": "markdown",
   "metadata": {},
   "source": [
    "4.4 ¿Cúal auditoria tuvo mejores resultados?, ¿y la peor?"
   ]
  },
  {
   "cell_type": "markdown",
   "metadata": {},
   "source": [
    "# Mañana agregar requisitos aplicables para ver la tendencia entre resultados y requisitos"
   ]
  }
 ],
 "metadata": {
  "kernelspec": {
   "display_name": "Python 3",
   "language": "python",
   "name": "python3"
  },
  "language_info": {
   "codemirror_mode": {
    "name": "ipython",
    "version": 3
   },
   "file_extension": ".py",
   "mimetype": "text/x-python",
   "name": "python",
   "nbconvert_exporter": "python",
   "pygments_lexer": "ipython3",
   "version": "3.8.5"
  }
 },
 "nbformat": 4,
 "nbformat_minor": 4
}
